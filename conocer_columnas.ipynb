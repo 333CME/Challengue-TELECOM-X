{
  "nbformat": 4,
  "nbformat_minor": 0,
  "metadata": {
    "colab": {
      "provenance": [],
      "authorship_tag": "ABX9TyNLHKmkdJKIMzhKalsk/Xr6",
      "include_colab_link": true
    },
    "kernelspec": {
      "name": "python3",
      "display_name": "Python 3"
    },
    "language_info": {
      "name": "python"
    }
  },
  "cells": [
    {
      "cell_type": "markdown",
      "metadata": {
        "id": "view-in-github",
        "colab_type": "text"
      },
      "source": [
        "<a href=\"https://colab.research.google.com/github/333CME/Challengue-TELECOM-X/blob/main/conocer_columnas.ipynb\" target=\"_parent\"><img src=\"https://colab.research.google.com/assets/colab-badge.svg\" alt=\"Open In Colab\"/></a>"
      ]
    },
    {
      "cell_type": "code",
      "execution_count": null,
      "metadata": {
        "id": "_Qqr814mkUEV"
      },
      "outputs": [],
      "source": [
        "import pandas as pd\n",
        "import numpy as np\n",
        "datos_procesados_1 = pd.read_json('/content/datos_procesados_1.json')\n",
        "datos_procesados_1\n",
        "\n",
        "def analizar_columnas(df):\n",
        "    resultados = []\n",
        "    for columna in df.columns:\n",
        "        # Contar NaN/None\n",
        "        n_nulos = df[columna].isna().sum()\n",
        "\n",
        "        # Inicializar conteos para columnas de texto\n",
        "        n_espacios = 0\n",
        "        n_comas = 0\n",
        "        n_caracteres_especiales = 0\n",
        "        ejemplos_caracteres_especiales = []\n",
        "\n",
        "        if df[columna].dtype == object:  # Solo para columnas de texto\n",
        "            # Espacios vacíos\n",
        "            n_espacios = df[columna].str.strip().eq('').sum()\n",
        "\n",
        "            # Comas\n",
        "            n_comas = df[columna].str.contains(',').sum()\n",
        "\n",
        "            # Caracteres especiales (excluyendo letras, números, espacios y puntos)\n",
        "            mask_caracteres_especiales = df[columna].str.contains(r'[^a-zA-Z0-9\\s.,-]', na=False, regex=True)\n",
        "            n_caracteres_especiales = mask_caracteres_especiales.sum()\n",
        "\n",
        "            # Ejemplos de caracteres especiales (muestra 3 únicos)\n",
        "            if n_caracteres_especiales > 0:\n",
        "                ejemplos_caracteres_especiales = (\n",
        "                    df[columna][mask_caracteres_especiales]\n",
        "                    .str.extract(r'([^a-zA-Z0-9\\s.,-])')[0]\n",
        "                    .dropna()\n",
        "                    .unique()[:3]  # Primeros 3 caracteres únicos\n",
        "                )\n",
        "\n",
        "        # Tipo de dato y valores únicos\n",
        "        tipo_dato = df[columna].dtype\n",
        "        ejemplos_valores = df[columna].dropna().unique()[:3]\n",
        "\n",
        "        resultados.append({\n",
        "            'Columna': columna,\n",
        "            'Tipo_dato': tipo_dato,\n",
        "            'NaN/None': n_nulos,\n",
        "            'Espacios_vacíos': n_espacios,\n",
        "            'Contiene_comas': n_comas,\n",
        "            'Caracteres_especiales': n_caracteres_especiales,\n",
        "            'Ejemplos_caracteres_especiales': ejemplos_caracteres_especiales,\n",
        "            'Ejemplos_valores': ejemplos_valores\n",
        "        })\n",
        "\n",
        "    return pd.DataFrame(resultados)\n",
        "\n",
        "#aquí reemplacen el nombre de su variable de datos\n",
        "# Uso:\n",
        "resultado_analisis = analizar_columnas(datos_procesados_1)\n",
        "print(resultado_analisis)"
      ]
    },
    {
      "cell_type": "code",
      "source": [],
      "metadata": {
        "id": "rX1BXE_DkhV0"
      },
      "execution_count": null,
      "outputs": []
    },
    {
      "cell_type": "code",
      "source": [],
      "metadata": {
        "id": "dM4aONc3khbA"
      },
      "execution_count": null,
      "outputs": []
    },
    {
      "cell_type": "code",
      "source": [],
      "metadata": {
        "id": "_S0v7sfNkhfj"
      },
      "execution_count": null,
      "outputs": []
    },
    {
      "cell_type": "code",
      "source": [],
      "metadata": {
        "id": "j6qKS4E0khkL"
      },
      "execution_count": null,
      "outputs": []
    },
    {
      "cell_type": "code",
      "source": [],
      "metadata": {
        "id": "xRwQ0Jvokhnn"
      },
      "execution_count": null,
      "outputs": []
    }
  ]
}